{
 "cells": [
  {
   "cell_type": "code",
   "execution_count": 1,
   "metadata": {},
   "outputs": [
    {
     "data": {
      "text/plain": [
       "<AxesSubplot:title={'center':'Rise in Sea Level'}, xlabel='Year', ylabel='Sea Level (inches)'>"
      ]
     },
     "execution_count": 1,
     "metadata": {},
     "output_type": "execute_result"
    },
    {
     "data": {
      "image/png": "[encoded data removed]",
      "text/plain": [
       "<Figure size 432x288 with 1 Axes>"
      ]
     },
     "metadata": {
      "needs_background": "light"
     },
     "output_type": "display_data"
    }
   ],
   "source": [
    "# PROJECT-5\n",
    "# SEA LEVEL PREDICTOR\n",
    "\n",
    "import pandas as pd\n",
    "import matplotlib.pyplot as plt\n",
    "from scipy.stats import linregress\n",
    "\n",
    "# 1. Use Pandas to import the data from epa-sea-level.csv.\n",
    "def draw_plot():\n",
    "    df = pd.read_csv('Downloads/epa-sea-level.csv')\n",
    "\n",
    "    \n",
    "# 2. Use matplotlib to create a scatter plot using the Year column as the x-axis and the \n",
    "# CSIRO Adjusted Sea Level column as the y-axis.    \n",
    "    df_scatter = plt.scatter(df['Year'], df['CSIRO Adjusted Sea Level'])\n",
    "\n",
    "\n",
    "# 3. Use the linregress function from scipy.stats to get the slope and y-intercept of the line of best fit. \n",
    "# Plot the line of best fit over the top of the scatter plot. \n",
    "# Make the line go through the year 2050 to predict the sea level rise in 2050.     \n",
    "    slope_fut = linregress(df['Year'], df['CSIRO Adjusted Sea Level'])\n",
    "    plt.plot(range(1880, 2051, 1), slope_fut.slope * range(1880, 2051, 1) + slope_fut.intercept)\n",
    "\n",
    "    \n",
    "# 4. Plot a new line of best fit just using the data from year 2000 through the most recent year in the dataset. \n",
    "# Make the line also go through the year 2050 to predict the sea level rise in 2050 if the rate of rise \n",
    "# continues as it has since the year 2000.    \n",
    "    slope_new = linregress(df.query('Year >= 2000') ['Year'], \n",
    "                           df.query('Year >= 2000') ['CSIRO Adjusted Sea Level'])\n",
    "    plt.plot(range(2000, 2051, 1), slope_new.slope * range(2000, 2051, 1) + slope_new.intercept)    \n",
    "    \n",
    "\n",
    "# 5. The x label should be Year, the y label should be Sea Level (inches), and the title should be Rise in Sea Level.    \n",
    "    x = 'Year'\n",
    "    y = 'Sea Level (inches)'\n",
    "    t = 'Rise in Sea Level'\n",
    "    plt.title(t)\n",
    "    plt.xlabel(x)\n",
    "    plt.ylabel(y)\n",
    "    plt.savefig('sea_level_plot.png')\n",
    "    return plt.gca()\n",
    "\n",
    "draw_plot()\n"
   ]
  },
  {
   "cell_type": "code",
   "execution_count": null,
   "metadata": {},
   "outputs": [],
   "source": []
  }
 ],
 "metadata": {
  "kernelspec": {
   "display_name": "Python 3",
   "language": "python",
   "name": "python3"
  },
  "language_info": {
   "codemirror_mode": {
    "name": "ipython",
    "version": 3
   },
   "file_extension": ".py",
   "mimetype": "text/x-python",
   "name": "python",
   "nbconvert_exporter": "python",
   "pygments_lexer": "ipython3",
   "version": "3.7.9"
  }
 },
 "nbformat": 4,
 "nbformat_minor": 4
}
